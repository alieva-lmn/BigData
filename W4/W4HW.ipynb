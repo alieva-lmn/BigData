{
  "nbformat": 4,
  "nbformat_minor": 0,
  "metadata": {
    "colab": {
      "provenance": []
    },
    "kernelspec": {
      "name": "python3",
      "display_name": "Python 3"
    },
    "language_info": {
      "name": "python"
    }
  },
  "cells": [
    {
      "cell_type": "code",
      "execution_count": 7,
      "metadata": {
        "colab": {
          "base_uri": "https://localhost:8080/"
        },
        "id": "zpRimwe5-9Zt",
        "outputId": "8c06b402-87a7-48cb-9861-d70e565d753e"
      },
      "outputs": [
        {
          "output_type": "stream",
          "name": "stdout",
          "text": [
            "Requirement already satisfied: pyspark in /usr/local/lib/python3.10/dist-packages (3.5.2)\n",
            "Requirement already satisfied: py4j==0.10.9.7 in /usr/local/lib/python3.10/dist-packages (from pyspark) (0.10.9.7)\n"
          ]
        }
      ],
      "source": [
        "!pip install pyspark"
      ]
    },
    {
      "cell_type": "code",
      "source": [
        "from pyspark import SparkContext, SparkConf\n",
        "\n",
        "conf = SparkConf().setAppName(\"Surname Length\").setMaster(\"local\")\n",
        "sc = SparkContext.getOrCreate(conf=conf)\n",
        "\n",
        "surnames_rdd = sc.textFile(\"surnames.txt\")\n",
        "short_surnames_rdd = surnames_rdd.filter(lambda x: len(x) <= 7)\n",
        "short_surnames = short_surnames_rdd.collect()\n",
        "\n",
        "print(short_surnames)"
      ],
      "metadata": {
        "colab": {
          "base_uri": "https://localhost:8080/"
        },
        "id": "1SW-AUOGAN2G",
        "outputId": "e1462055-b7da-4cad-f879-9675156ecca1"
      },
      "execution_count": 10,
      "outputs": [
        {
          "output_type": "stream",
          "name": "stdout",
          "text": [
            "['Əliyev', 'Həsənov', 'Quliyev', 'Əhmədov', 'Abbasov', 'Cəfərov', 'Əliyev', 'Həsənov', 'Quliyev', 'Əhmədov']\n"
          ]
        }
      ]
    },
    {
      "cell_type": "code",
      "source": [
        "first_letter_rdd = short_surnames_rdd.map(lambda x: x[0])\n",
        "first_letters = first_letter_rdd.collect()\n",
        "\n",
        "print(first_letters)"
      ],
      "metadata": {
        "colab": {
          "base_uri": "https://localhost:8080/"
        },
        "id": "93e_kdhoW6KU",
        "outputId": "79630eab-fe84-4383-e96b-97e839a9feff"
      },
      "execution_count": 14,
      "outputs": [
        {
          "output_type": "stream",
          "name": "stdout",
          "text": [
            "['Ə', 'H', 'Q', 'Ə', 'A', 'C', 'Ə', 'H', 'Q', 'Ə']\n"
          ]
        }
      ]
    },
    {
      "cell_type": "code",
      "source": [
        "numbers_rdd = sc.parallelize(range(1,11))\n",
        "squares_rdd = numbers_rdd.map(lambda x: x**2)\n",
        "\n",
        "numbers = numbers_rdd.collect()\n",
        "squares = squares_rdd.collect()\n",
        "\n",
        "print(numbers)\n",
        "print(squares)"
      ],
      "metadata": {
        "colab": {
          "base_uri": "https://localhost:8080/"
        },
        "id": "sEqEb_lXZi4b",
        "outputId": "1e072750-4bed-4802-a112-e5490431698e"
      },
      "execution_count": 17,
      "outputs": [
        {
          "output_type": "stream",
          "name": "stdout",
          "text": [
            "[1, 2, 3, 4, 5, 6, 7, 8, 9, 10]\n",
            "[1, 4, 9, 16, 25, 36, 49, 64, 81, 100]\n"
          ]
        }
      ]
    },
    {
      "cell_type": "code",
      "source": [
        "union_rdd = numbers_rdd.union(squares_rdd)\n",
        "print(union_rdd.collect())"
      ],
      "metadata": {
        "colab": {
          "base_uri": "https://localhost:8080/"
        },
        "id": "LOT-jEhqcFVz",
        "outputId": "96d7845c-6c55-441a-f34f-d19c6a64e951"
      },
      "execution_count": 18,
      "outputs": [
        {
          "output_type": "stream",
          "name": "stdout",
          "text": [
            "[1, 2, 3, 4, 5, 6, 7, 8, 9, 10, 1, 4, 9, 16, 25, 36, 49, 64, 81, 100]\n"
          ]
        }
      ]
    },
    {
      "cell_type": "code",
      "source": [
        "intersection_rdd = numbers_rdd.intersection(squares_rdd)\n",
        "print(intersection_rdd.collect())"
      ],
      "metadata": {
        "colab": {
          "base_uri": "https://localhost:8080/"
        },
        "id": "x4il0lFMcoiA",
        "outputId": "ec1a11a1-e263-48ee-a7c8-8a281e8dc7ce"
      },
      "execution_count": 19,
      "outputs": [
        {
          "output_type": "stream",
          "name": "stdout",
          "text": [
            "[4, 1, 9]\n"
          ]
        }
      ]
    },
    {
      "cell_type": "code",
      "source": [
        "subtraction_rdd = numbers_rdd.subtract(squares_rdd)\n",
        "print(subtraction_rdd.collect())"
      ],
      "metadata": {
        "colab": {
          "base_uri": "https://localhost:8080/"
        },
        "id": "IgI9bpyldAJO",
        "outputId": "7c49da6c-d29e-4827-f654-f5bed643d1b0"
      },
      "execution_count": 20,
      "outputs": [
        {
          "output_type": "stream",
          "name": "stdout",
          "text": [
            "[2, 6, 8, 10, 3, 5, 7]\n"
          ]
        }
      ]
    },
    {
      "cell_type": "code",
      "source": [
        "cartesian_rdd = numbers_rdd.cartesian(squares_rdd)\n",
        "print(cartesian_rdd.collect())"
      ],
      "metadata": {
        "colab": {
          "base_uri": "https://localhost:8080/"
        },
        "id": "us-P9gGtdwIP",
        "outputId": "d710f374-3515-4be5-9062-daa415073845"
      },
      "execution_count": 22,
      "outputs": [
        {
          "output_type": "stream",
          "name": "stdout",
          "text": [
            "[(1, 1), (1, 4), (1, 9), (1, 16), (1, 25), (1, 36), (1, 49), (1, 64), (1, 81), (1, 100), (2, 1), (3, 1), (2, 4), (2, 9), (3, 4), (3, 9), (2, 16), (2, 25), (2, 36), (2, 49), (3, 16), (3, 25), (3, 36), (3, 49), (2, 64), (2, 81), (2, 100), (3, 64), (3, 81), (3, 100), (4, 1), (5, 1), (6, 1), (7, 1), (4, 4), (4, 9), (5, 4), (5, 9), (6, 4), (6, 9), (7, 4), (7, 9), (4, 16), (4, 25), (4, 36), (4, 49), (5, 16), (5, 25), (5, 36), (5, 49), (6, 16), (6, 25), (6, 36), (6, 49), (7, 16), (7, 25), (7, 36), (7, 49), (4, 64), (4, 81), (4, 100), (5, 64), (5, 81), (5, 100), (6, 64), (6, 81), (6, 100), (7, 64), (7, 81), (7, 100), (8, 1), (9, 1), (10, 1), (8, 4), (8, 9), (9, 4), (9, 9), (10, 4), (10, 9), (8, 16), (8, 25), (8, 36), (8, 49), (9, 16), (9, 25), (9, 36), (9, 49), (10, 16), (10, 25), (10, 36), (10, 49), (8, 64), (8, 81), (8, 100), (9, 64), (9, 81), (9, 100), (10, 64), (10, 81), (10, 100)]\n"
          ]
        }
      ]
    },
    {
      "cell_type": "code",
      "source": [
        "with open('doc1.TXT', 'r') as file:\n",
        "  doc1 = file.read()\n",
        "\n",
        "with open('doc2.txt', 'r') as file:\n",
        "  doc2 = file.read()\n",
        "\n",
        "\n",
        "if len(doc1) > len(doc2):\n",
        "  original_doc = doc1\n",
        "else:\n",
        "  original_doc = doc2\n",
        "\n",
        "print(f\"The original document is:\\n\\n{original_doc}\")"
      ],
      "metadata": {
        "colab": {
          "base_uri": "https://localhost:8080/"
        },
        "id": "Xnm2wvvAlSnn",
        "outputId": "fa68effb-098a-4ef2-d226-c6022759dcce"
      },
      "execution_count": 27,
      "outputs": [
        {
          "output_type": "stream",
          "name": "stdout",
          "text": [
            "The original document is:\n",
            "\n",
            "Good\n",
            "Morning\n",
            "Good\n",
            "Evening\n",
            "Good\n",
            "Day\n",
            "Happy\n",
            "Birthday\n",
            "Happy\n",
            "New Year\n",
            "Good\n",
            "Morning\n",
            "Good\n",
            "Evening\n",
            "Good\n",
            "Day\n",
            "Happy\n",
            "Birthday\n",
            "Happy\n",
            "New Year\n"
          ]
        }
      ]
    },
    {
      "cell_type": "code",
      "source": [
        "longest_surname = surnames_rdd.map(lambda x: len(x)).max()\n",
        "# longest_surname = surnames_rdd.reduce(lambda x, y: x if len(x) > len(y) else y)\n",
        "\n",
        "longest_surname"
      ],
      "metadata": {
        "colab": {
          "base_uri": "https://localhost:8080/"
        },
        "id": "f_YRgvzQnE2M",
        "outputId": "ca44ed95-289e-4ac4-b9e2-d89f0d2cfef5"
      },
      "execution_count": 30,
      "outputs": [
        {
          "output_type": "execute_result",
          "data": {
            "text/plain": [
              "10"
            ]
          },
          "metadata": {},
          "execution_count": 30
        }
      ]
    },
    {
      "cell_type": "code",
      "source": [
        "from pyspark.sql import SparkSession"
      ],
      "metadata": {
        "id": "uNjEHezNocM3"
      },
      "execution_count": 31,
      "outputs": []
    },
    {
      "cell_type": "code",
      "source": [
        "spark = SparkSession.builder.appName(\"Hepatitis Analysis\").getOrCreate()\n",
        "\n",
        "hepatitis_df = spark.read.csv(\"hepatitis.csv\", header=True, inferSchema=True)\n",
        "\n",
        "avg_age_males = hepatitis_df.filter(hepatitis_df[\"Sex\"] == \"male\").agg({'Age': 'avg'}).collect()[0][0]\n",
        "\n",
        "avg_age_males"
      ],
      "metadata": {
        "colab": {
          "base_uri": "https://localhost:8080/"
        },
        "id": "D4s0TWW3ondO",
        "outputId": "59dcd237-1216-4815-be77-630721acbc7b"
      },
      "execution_count": 33,
      "outputs": [
        {
          "output_type": "execute_result",
          "data": {
            "text/plain": [
              "41.5"
            ]
          },
          "metadata": {},
          "execution_count": 33
        }
      ]
    },
    {
      "cell_type": "code",
      "source": [
        "hepatitis_df.createOrReplaceTempView(\"hepatitis\")\n",
        "\n",
        "distinct_ages = spark.sql(\"select distinct Age from hepatitis\").collect()\n",
        "\n",
        "[row['Age'] for row in distinct_ages]"
      ],
      "metadata": {
        "colab": {
          "base_uri": "https://localhost:8080/"
        },
        "id": "Aav7T-y65RFp",
        "outputId": "a15bd908-3952-4bc3-ab1f-720354ec2526"
      },
      "execution_count": 40,
      "outputs": [
        {
          "output_type": "execute_result",
          "data": {
            "text/plain": [
              "[31,\n",
              " 65,\n",
              " 53,\n",
              " 78,\n",
              " 34,\n",
              " 28,\n",
              " 27,\n",
              " 26,\n",
              " 44,\n",
              " 22,\n",
              " 47,\n",
              " 52,\n",
              " 40,\n",
              " 20,\n",
              " 57,\n",
              " 54,\n",
              " 48,\n",
              " 64,\n",
              " 41,\n",
              " 43,\n",
              " 37,\n",
              " 61,\n",
              " 72,\n",
              " 35,\n",
              " 59,\n",
              " 23,\n",
              " 39,\n",
              " 49,\n",
              " 7,\n",
              " 51,\n",
              " 69,\n",
              " 50,\n",
              " 45,\n",
              " 38,\n",
              " 25,\n",
              " 24,\n",
              " 70,\n",
              " 62,\n",
              " 32,\n",
              " 60,\n",
              " 56,\n",
              " 58,\n",
              " 33,\n",
              " 42,\n",
              " 30,\n",
              " 66,\n",
              " 67,\n",
              " 46,\n",
              " 36]"
            ]
          },
          "metadata": {},
          "execution_count": 40
        }
      ]
    },
    {
      "cell_type": "markdown",
      "source": [
        "# New section"
      ],
      "metadata": {
        "id": "Bgzl4KRkBlqP"
      }
    }
  ]
}